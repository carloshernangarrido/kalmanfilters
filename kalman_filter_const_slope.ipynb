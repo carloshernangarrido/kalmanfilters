{
  "nbformat": 4,
  "nbformat_minor": 0,
  "metadata": {
    "colab": {
      "name": "kalman_filter_const_slope.ipynb",
      "provenance": [],
      "include_colab_link": true
    },
    "kernelspec": {
      "name": "python3",
      "display_name": "Python 3"
    },
    "language_info": {
      "name": "python"
    }
  },
  "cells": [
    {
      "cell_type": "markdown",
      "metadata": {
        "id": "view-in-github",
        "colab_type": "text"
      },
      "source": [
        "<a href=\"https://colab.research.google.com/github/carloshernangarrido/kalmanfilters/blob/main/kalman_filter_const_slope.ipynb\" target=\"_parent\"><img src=\"https://colab.research.google.com/assets/colab-badge.svg\" alt=\"Open In Colab\"/></a>"
      ]
    },
    {
      "cell_type": "markdown",
      "source": [
        "# Kalman filter for smoothing displacements designed by assuming a constant slope model"
      ],
      "metadata": {
        "id": "3UcmJSKNTGwR"
      }
    },
    {
      "cell_type": "markdown",
      "source": [
        "# Packages and modules"
      ],
      "metadata": {
        "id": "qTwmM5Pu_AB1"
      }
    },
    {
      "cell_type": "code",
      "source": [
        "# Packages installation\n",
        "!pip install filterpy"
      ],
      "metadata": {
        "colab": {
          "base_uri": "https://localhost:8080/"
        },
        "id": "VLu9n3LvTwLa",
        "outputId": "397e41c6-8672-43e4-8b3b-66cf7e6ff103"
      },
      "execution_count": null,
      "outputs": [
        {
          "output_type": "stream",
          "name": "stdout",
          "text": [
            "Requirement already satisfied: filterpy in /usr/local/lib/python3.7/dist-packages (1.4.5)\n",
            "Requirement already satisfied: scipy in /usr/local/lib/python3.7/dist-packages (from filterpy) (1.4.1)\n",
            "Requirement already satisfied: numpy in /usr/local/lib/python3.7/dist-packages (from filterpy) (1.21.5)\n",
            "Requirement already satisfied: matplotlib in /usr/local/lib/python3.7/dist-packages (from filterpy) (3.2.2)\n",
            "Requirement already satisfied: pyparsing!=2.0.4,!=2.1.2,!=2.1.6,>=2.0.1 in /usr/local/lib/python3.7/dist-packages (from matplotlib->filterpy) (3.0.8)\n",
            "Requirement already satisfied: python-dateutil>=2.1 in /usr/local/lib/python3.7/dist-packages (from matplotlib->filterpy) (2.8.2)\n",
            "Requirement already satisfied: cycler>=0.10 in /usr/local/lib/python3.7/dist-packages (from matplotlib->filterpy) (0.11.0)\n",
            "Requirement already satisfied: kiwisolver>=1.0.1 in /usr/local/lib/python3.7/dist-packages (from matplotlib->filterpy) (1.4.2)\n",
            "Requirement already satisfied: typing-extensions in /usr/local/lib/python3.7/dist-packages (from kiwisolver>=1.0.1->matplotlib->filterpy) (4.1.1)\n",
            "Requirement already satisfied: six>=1.5 in /usr/local/lib/python3.7/dist-packages (from python-dateutil>=2.1->matplotlib->filterpy) (1.15.0)\n"
          ]
        }
      ]
    },
    {
      "cell_type": "code",
      "source": [
        "# Modules import\n",
        "from filterpy.kalman import KalmanFilter # based on the book Kalman_and_Bayesian_Filters_in_Python.pdf\n",
        "import numpy as np\n",
        "import h5py\n",
        "# import matlab.engine\n",
        "import scipy.io\n",
        "import matplotlib.pyplot as plt\n",
        "from google.colab import drive\n",
        "drive.mount('/content/drive')\n",
        "import os\n",
        "\n"
      ],
      "metadata": {
        "id": "eYdENwJ3TOsA",
        "colab": {
          "base_uri": "https://localhost:8080/"
        },
        "outputId": "3862f772-2b66-4e97-808d-b780793549d4"
      },
      "execution_count": null,
      "outputs": [
        {
          "output_type": "stream",
          "name": "stdout",
          "text": [
            "Drive already mounted at /content/drive; to attempt to forcibly remount, call drive.mount(\"/content/drive\", force_remount=True).\n"
          ]
        }
      ]
    },
    {
      "cell_type": "markdown",
      "source": [
        "# Input parameters"
      ],
      "metadata": {
        "id": "w9rSi553-i-q"
      }
    },
    {
      "cell_type": "markdown",
      "source": [
        "## Classes"
      ],
      "metadata": {
        "id": "OrK_LX_fd9we"
      }
    },
    {
      "cell_type": "code",
      "source": [
        "class InputParameters: \n",
        "  '''\n",
        "  Description\n",
        "  ----------\n",
        "  An object of Input Parameters for a Kalman Filter.\n",
        "\n",
        "  Parameters\n",
        "  ----------\n",
        "  dim_x : int\n",
        "    State vector dimension. The default state vector \n",
        "    dimension is 2, i.e. x_1 = position and x_2 = slope.\n",
        "  dim_z : int\n",
        "    Meassurement vector dimension. The default meassurement \n",
        "    vector dimension is 1, i.e. z = position.\n",
        "  x_init : ndarray(dim_x, 1)\n",
        "    Initial state\n",
        "  dx : float\n",
        "    Step size (Delta t)\n",
        "  F : ndarray(dim_x, dim_x)\n",
        "    State transition matrix. By default, it assumes constant slope and that \n",
        "    the next position is the current position plus current slope times dx\n",
        "  H : ndarray(dim_z, dim_x)\n",
        "    Meassurement function. By default, it assumes that only the position is \n",
        "    meassured.\n",
        "  P : ndarray(dim_x, dim_x)\n",
        "    Covariance matrix describing the uncertainty in the state vector due to \n",
        "    disturbances that excite the system. By default it is assumed that position \n",
        "    cannot change suddenly but velocity can change during a time step with a \n",
        "    variance of 100 (std = 10).\n",
        "  R : ndarray(dim_z, dim_z)\n",
        "    Covariance matrix describing the measurement noise. If only position is \n",
        "    meassured, it can be set as a scalar. By default, it assumes a variance of \\\n",
        "    1 for the noise in the position meassurement (std = 1).\n",
        "  Q : ndarray(dim_x, dim_x)\n",
        "    Variance matrix describing the process noise.\n",
        "  \n",
        "  Returns\n",
        "  ----------\n",
        "  object\n",
        "    The Input Parameters for a Kalman Filter.  \n",
        "  '''\n",
        "    \n",
        "  def __init__(self, dim_x=2, dim_z=1, x_init=np.array([[0.], [0.]]),\\\n",
        "               dx=.1, F=None, H=np.array([[1., 0.]]), \\\n",
        "               P=None, R=np.array([[1]]),\n",
        "               Q=None, Q_process_noise_var=None):\n",
        "    self.dim_x = dim_x\n",
        "    self.dim_z = dim_z\n",
        "    if x_init.shape == (dim_x,1):\n",
        "      self.x_init = x_init\n",
        "    else:\n",
        "      raise Exception(\"Initial state must have the same dimension as the state\")\n",
        "    self.dx = dx\n",
        "    if F is None:\n",
        "      if dx is not None:\n",
        "        self.F = np.array([[1., self.dx], \n",
        "                           [0., 1.]]) \n",
        "      else:\n",
        "        raise Exception(\"If State transition matrix F is not defined, step size\\\n",
        "dx must be defined.\")\n",
        "    else:\n",
        "      self.F = F\n",
        "    self.H = H\n",
        "    self.R = R\n",
        "    if P is not None:\n",
        "      self.P = P\n",
        "    else:\n",
        "      self.P = 1000*np.array([[R[0,0], 0.], \n",
        "                              [0., R[0,0]/(dx**2)]])\n",
        "    if Q is None:\n",
        "      if Q_process_noise_var is None:\n",
        "        raise Exception(\"If process noise covariance matrix is not defined, \\\n",
        "process noise variance Q_process_noise_var must be defined.\")\n",
        "      from filterpy.common import Q_discrete_white_noise\n",
        "      self.Q = Q_discrete_white_noise(dim=dim_x, dt=dx, var=Q_process_noise_var)\n",
        "    else:\n",
        "      self.Q = Q\n",
        "\n",
        "\n",
        "class Modal:\n",
        "  '''\n",
        "  Description\n",
        "  ----------\n",
        "  An object of mode shape.\n",
        "\n",
        "  Parameters\n",
        "  ----------\n",
        "  S : dict\n",
        "    dictionary returned by scipy.io.loadmat(input_file_name)\n",
        "    \n",
        "  Returns\n",
        "  ----------\n",
        "  object\n",
        "    The mode shape.  \n",
        "  '''  \n",
        "  def __init__(self, S):\n",
        "      self.freq = np.array(S['modal']['freq'][0], dtype=np.float64)\n",
        "      self.x = np.array(S['modal']['x'][0][0], dtype=np.float64)\n",
        "      self.mode = np.array(S['modal']['mode'][0][0], dtype=np.float64)"
      ],
      "metadata": {
        "id": "FuH6RlcgVw4G"
      },
      "execution_count": null,
      "outputs": []
    },
    {
      "cell_type": "markdown",
      "source": [
        "## Load input file"
      ],
      "metadata": {
        "id": "0fl8a8PsAEFf"
      }
    },
    {
      "cell_type": "code",
      "source": [
        "path = '/content/drive/My Drive/TRABAJO/45_full_field/Colab Notebooks/Full field structural'\n",
        "\n",
        "input_file_name = os.path.join(path, '13_10_11_run1_modal.mat')\n",
        "\n",
        "S = scipy.io.loadmat(input_file_name)\n",
        "modal = Modal(S)\n"
      ],
      "metadata": {
        "id": "u_RxcswvAMNj"
      },
      "execution_count": null,
      "outputs": []
    },
    {
      "cell_type": "code",
      "source": [
        "pos_init   = modal.mode[0]\n",
        "slope_init = (modal.mode[-1]-modal.mode[0])/ \\\n",
        "             (len(modal.x)*np.mean(np.diff(modal.x, axis=0)))\n",
        "ip = InputParameters(dx=np.mean(np.diff(modal.x, axis=0)), \n",
        "                     R=np.array([[(.01)**2]]),\n",
        "                    #  Q_process_noise_var=(.01)**2,\n",
        "                     Q=np.array([[0, 0], [0, (1e-4)**2]]),\n",
        "                     x_init=np.array([pos_init, slope_init]).reshape(2,1))\n"
      ],
      "metadata": {
        "id": "barVYftcdzrl"
      },
      "execution_count": null,
      "outputs": []
    },
    {
      "cell_type": "markdown",
      "source": [
        "# Process"
      ],
      "metadata": {
        "id": "6FJ4Hu2l-fvz"
      }
    },
    {
      "cell_type": "markdown",
      "source": [
        "## Filter definition"
      ],
      "metadata": {
        "id": "E0OeYpBPVneL"
      }
    },
    {
      "cell_type": "code",
      "source": [
        "# First, construct the object with the required dimensionality.\n",
        "f = KalmanFilter(dim_x=ip.dim_x, dim_z=ip.dim_z)\n",
        "\n",
        "# Set initial state\n",
        "f.x = ip.x_init\n",
        "\n",
        "# Define the state transition matrix\n",
        "f.F = ip.F \n",
        "\n",
        "# Define the measurement function\n",
        "f.H = ip.H\n",
        "\n",
        "# Define the covariance matrix that describes the disturbance in the state\n",
        "f.P = ip.P\n",
        "\n",
        "# Define the covariance matrix that describes the noise in meassurement \n",
        "f.R = ip.R\n",
        "\n",
        "# Assign the process noise.\n",
        "f.Q = ip.Q\n",
        "\n",
        "print(f)"
      ],
      "metadata": {
        "colab": {
          "base_uri": "https://localhost:8080/"
        },
        "id": "xJppjPC4U5pv",
        "outputId": "2648f863-55d7-40ce-f392-bef0807d3bcb"
      },
      "execution_count": null,
      "outputs": [
        {
          "output_type": "stream",
          "name": "stdout",
          "text": [
            "KalmanFilter object\n",
            "dim_x = 2\n",
            "dim_z = 1\n",
            "dim_u = 0\n",
            "x = [[ 1.00000000e+00 -7.60318548e-04]].T\n",
            "P = [[0.1     0.     ]\n",
            "     [0.      0.00025]]\n",
            "x_prior = [[0. 0.]].T\n",
            "P_prior = [[1. 0.]\n",
            "           [0. 1.]]\n",
            "x_post = [[0. 0.]].T\n",
            "P_post = [[1. 0.]\n",
            "          [0. 1.]]\n",
            "F = [[ 1. 20.]\n",
            "     [ 0.  1.]]\n",
            "Q = [[0.e+00 0.e+00]\n",
            "     [0.e+00 1.e-08]]\n",
            "R = [[0.0001]]\n",
            "H = [[1. 0.]]\n",
            "K = [[0. 0.]].T\n",
            "y = [[0.]]\n",
            "S = [[0.]]\n",
            "SI = [[0.]]\n",
            "M = [[0.]]\n",
            "B = None\n",
            "z = [[None]]\n",
            "log-likelihood = -708.3964185322641\n",
            "likelihood = 2.2250738585072014e-308\n",
            "mahalanobis = 0.0\n",
            "alpha = 1.0\n",
            "inv = <function inv at 0x7f0d711ba050>\n"
          ]
        }
      ]
    },
    {
      "cell_type": "markdown",
      "source": [
        "## Filter running"
      ],
      "metadata": {
        "id": "y0L0LqAa4epJ"
      }
    },
    {
      "cell_type": "code",
      "source": [
        "n_steps = len(modal.x)\n",
        "\n",
        "X_vector = modal.x.T\n",
        "# n_vector = np.random.normal(0,10,n_steps)\n",
        "z_vector = modal.mode.T\n",
        "x_vector = np.zeros((ip.dim_x,n_steps))\n",
        "\n",
        "f.x = ip.x_init\n",
        "i = 0\n",
        "while i<n_steps:\n",
        "  # print(f'i = {i}\\n\\r---------------------\\n\\r{f.P}\\n\\r\\n\\r')    \n",
        "  z = z_vector[0,i]\n",
        "  f.predict()\n",
        "  f.update(z=z)\n",
        "  x_vector[0,i] = f.x[0]\n",
        "  x_vector[1,i] = f.x[1]\n",
        "  i += 1\n"
      ],
      "metadata": {
        "id": "e0Nxj4OM-xeJ"
      },
      "execution_count": null,
      "outputs": []
    },
    {
      "cell_type": "markdown",
      "source": [
        "# Plots"
      ],
      "metadata": {
        "id": "JKTcqWDe9Qh4"
      }
    },
    {
      "cell_type": "code",
      "source": [
        "# data to be plotted\n",
        "plt.figure()\n",
        "plt.title(\"Line graph\")\n",
        "plt.xlabel(\"X axis\")\n",
        "plt.ylabel(\"position\")\n",
        "plt.plot(X_vector.T, z_vector.T, color =\"blue\")\n",
        "plt.plot(X_vector.T, x_vector[0,].T, color =\"red\")\n",
        "plt.show()\n",
        "\n",
        "plt.figure()\n",
        "plt.title(\"Line graph\")\n",
        "plt.xlabel(\"X axis\")\n",
        "plt.ylabel(\"slope\")\n",
        "s_vector = np.diff(z_vector, prepend=0, axis=1)/ip.dx\n",
        "s_vector[0,0] = s_vector[0,1]\n",
        "s_vector_filt = x_vector[1,:]\n",
        "plt.plot(X_vector.T, s_vector.T, color =\"blue\")\n",
        "plt.plot(X_vector.T, s_vector_filt.T, color =\"red\")\n",
        "plt.show()\n",
        "\n",
        "plt.figure()\n",
        "plt.title(\"Line graph\")\n",
        "plt.xlabel(\"X axis\")\n",
        "plt.ylabel(\"curvature\")\n",
        "c_vector = np.diff(s_vector, append=0, axis=1)/ip.dx\n",
        "c_vector_filt = np.diff(s_vector_filt, append=0, axis=0)/ip.dx\n",
        "plt.plot(X_vector.T, c_vector.T, color =\"blue\")\n",
        "plt.plot(X_vector.T, c_vector_filt.T, color =\"red\")\n",
        "plt.ylim(-10e-6, 10e-6)\n",
        "plt.show()  "
      ],
      "metadata": {
        "colab": {
          "base_uri": "https://localhost:8080/",
          "height": 851
        },
        "id": "p1sKeDWmVfYZ",
        "outputId": "2e462289-7c74-4327-a623-6ea64e3334f5"
      },
      "execution_count": null,
      "outputs": [
        {
          "output_type": "display_data",
          "data": {
            "text/plain": [
              "<Figure size 432x288 with 1 Axes>"
            ],
            "image/png": "[encoded data removed]"
          },
          "metadata": {
            "needs_background": "light"
          }
        },
        {
          "output_type": "display_data",
          "data": {
            "text/plain": [
              "<Figure size 432x288 with 1 Axes>"
            ],
            "image/png": "[encoded data removed]"
          },
          "metadata": {
            "needs_background": "light"
          }
        },
        {
          "output_type": "display_data",
          "data": {
            "text/plain": [
              "<Figure size 432x288 with 1 Axes>"
            ],
            "image/png": "[encoded data removed]"
          },
          "metadata": {
            "needs_background": "light"
          }
        }
      ]
    },
    {
      "cell_type": "code",
      "source": [
        ""
      ],
      "metadata": {
        "id": "zrOxf6oHqg3p"
      },
      "execution_count": null,
      "outputs": []
    }
  ]
}